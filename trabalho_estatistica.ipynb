{
  "nbformat": 4,
  "nbformat_minor": 0,
  "metadata": {
    "colab": {
      "name": "trabalho_estatistica.ipynb",
      "provenance": [],
      "toc_visible": true,
      "authorship_tag": "ABX9TyNnOFiCgWM3o9WOjdx9NuiS",
      "include_colab_link": true
    },
    "kernelspec": {
      "name": "python3",
      "display_name": "Python 3"
    }
  },
  "cells": [
    {
      "cell_type": "markdown",
      "metadata": {
        "id": "view-in-github",
        "colab_type": "text"
      },
      "source": [
        "<a href=\"https://colab.research.google.com/github/salsicha018/geramodelo/blob/main/trabalho_estatistica.ipynb\" target=\"_parent\"><img src=\"https://colab.research.google.com/assets/colab-badge.svg\" alt=\"Open In Colab\"/></a>"
      ]
    },
    {
      "cell_type": "code",
      "metadata": {
        "id": "agrMXBLKS9HT"
      },
      "source": [
        "#oi pessoal, esse é um notebook em python pra usar pro nosso trabalho \r\n",
        "#tudo que fica depois de uma hashtag é comentario, assim como o que esta dentro de ''' ''' tambem é comentario"
      ],
      "execution_count": null,
      "outputs": []
    },
    {
      "cell_type": "code",
      "metadata": {
        "colab": {
          "base_uri": "https://localhost:8080/",
          "height": 69
        },
        "id": "6uIUK0rixJGo",
        "outputId": "4b22ee41-49dc-47d5-e265-fabe49bfff0d"
      },
      "source": [
        "#entao essa plataforma aqui vai ajudar muito a gente aqui pra fazer tudo por python \r\n",
        "'''\r\n",
        "Inicialmente vamos passar os dados aqui pra esse ambiente\r\n",
        "\r\n",
        "vou colocar um passo a passo aqui tudo bem explicadinho:\r\n",
        "\r\n",
        "1 - passar os dados para cá \r\n",
        "2 - criar o banco de dados\r\n",
        "3 - plotar alguns graficos, como histograma, distribuiçao\r\n",
        "4 - analises iniciais (ainda n assisti aquela aula)\r\n",
        "5 - modelagem do problema\r\n",
        "6 - otimizacao\r\n",
        "\r\n",
        "'''\r\n",
        "#isso aqui em cima é uma docstring, serve para documentar funcoes mas tambem pode ser usado como comentario"
      ],
      "execution_count": null,
      "outputs": [
        {
          "output_type": "execute_result",
          "data": {
            "application/vnd.google.colaboratory.intrinsic+json": {
              "type": "string"
            },
            "text/plain": [
              "'\\nInicialmente vamos passar os dados aqui pra esse ambiente\\n\\nvou colocar um passo a passo aqui tudo bem explicadinho:\\n\\n1 - passar os dados para cá \\n2 - criar o banco de dados\\n3 - plotar alguns graficos, como histograma, distribuiçao\\n4 - analises iniciais (ainda n assisti aquela aula)\\n5 - modelagem do problema\\n6 - otimizacao\\n\\n'"
            ]
          },
          "metadata": {
            "tags": []
          },
          "execution_count": 3
        }
      ]
    },
    {
      "cell_type": "code",
      "metadata": {
        "id": "6t00EqsHx8jn"
      },
      "source": [
        "#primeiramente, vamos criar o dataset\r\n",
        "# para isso vou importar umas bibliotecas aqui do python que vao servir para nos dar suporte e facilitar o nosso trabalho\r\n",
        "# biblioteca, é um compilado de funcoes e metodos para nos auxiliar a fazer as coisas de forma mais intuitiva\r\n",
        "#exemplo, biblioteca pandas, é uma biblioteca que tem como intuito ser usada para manipulacao de dados em larga escala, da ordem 100 variaveis com mais 1 milhão de registros cada. \r\n",
        "# é como se estivessemos trabalhando com uma matriz da ondem de de [100, n milhoes ou se vc tiver espaço o suficiente bilhoes]\r\n",
        "# é uma ferramenta base para ciencia de dados, machine learning, Inteligencia artificial entre outras\r\n",
        "\r\n",
        "#chega de papo, HAJIMEMASHO!!!\r\n",
        "\r\n",
        "\r\n"
      ],
      "execution_count": null,
      "outputs": []
    },
    {
      "cell_type": "code",
      "metadata": {
        "id": "lhpwla4Gzdhs"
      },
      "source": [
        "\r\n"
      ],
      "execution_count": null,
      "outputs": []
    },
    {
      "cell_type": "code",
      "metadata": {
        "id": "nka-5B8f0n3B"
      },
      "source": [
        "#criando nosso dataset:\r\n",
        "\r\n",
        "#trabalharemos com 3 variaveis sendo 1 dependente, e 2 independentes\r\n",
        "\r\n",
        "#trazendo os valores para cá:\r\n",
        "#tem varias formas de fazer isso, mas como nosso banco de dados é relativamente pequeno vou criar 3 arrays e posteriormente vou criar um dicionario contendo esses arrays.\r\n",
        "#feito isso vou transformar esse dicionario em um dataframe, assim podemos aplicar as funcoes que criarmos para nossos modelos com maior facilidade sem precisar iterar linha a linha\r\n",
        "\r\n",
        "# array:\r\n",
        "# um array é como se fosse um conjunto de valores que tem muitas funcionalidades, uma delas é uma maior facilidade para trabalhar com funcoes e graficos\r\n",
        "# é muito mais facil usar um array do que uma lista, que é a mesma ideia, em uma lista teria que fazer uma puta volta astronomica. \r\n",
        "#vou dar um exemplo aqui pra clarear as ideias:\r\n",
        "\r\n",
        "#fazer um grafico de y em funcao de x usando lista, e depois usando array\r\n",
        "\r\n",
        "\r\n",
        "\r\n",
        "\r\n",
        "\r\n"
      ],
      "execution_count": null,
      "outputs": []
    },
    {
      "cell_type": "code",
      "metadata": {
        "colab": {
          "base_uri": "https://localhost:8080/",
          "height": 265
        },
        "id": "SPGjRSRt2xpa",
        "outputId": "641700fe-fec7-492d-9cf0-9a8bf9eafebb"
      },
      "source": [
        "x = [0,1,2,3,4,5,6,7,8,9,10]#lista com os valores, cada numero é um elemento da lista\r\n",
        "y = []#criando uma lista vazia\r\n",
        "\r\n",
        "#criando a funcao do nosso modelo \r\n",
        "def f(x):\r\n",
        "    b = 1 + x#vamos supor que seja assim, coloquei b pra n dar problema\r\n",
        "    return(b)\r\n",
        "\r\n",
        "\r\n",
        "s = len(x)# calcular o numero de elementos na lista x\r\n",
        "\r\n",
        "for i in range(s):#isso aqui é a parte chata, construir iteracao leva tempo, esse exemplo foi xoxo, mas exemplifica o que queremos evitar, DOR DE CABEÇA!\r\n",
        "   y.append(f(x[i]))\r\n",
        "\r\n",
        "#imprimindo o grafico\r\n",
        "plt.figure()\r\n",
        "plt.axhline()#eixo horizontal em y = 0\r\n",
        "plt.axvline()#eixo vertical  em x = 0\r\n",
        "plt.plot(x,y)\r\n",
        "\r\n",
        "plt.show()\r\n"
      ],
      "execution_count": null,
      "outputs": [
        {
          "output_type": "display_data",
          "data": {
            "image/png": "[encoded data removed]",
            "text/plain": [
              "<Figure size 432x288 with 1 Axes>"
            ]
          },
          "metadata": {
            "tags": [],
            "needs_background": "light"
          }
        }
      ]
    },
    {
      "cell_type": "code",
      "metadata": {
        "colab": {
          "base_uri": "https://localhost:8080/",
          "height": 265
        },
        "id": "4kHauS8B4YJj",
        "outputId": "ea957101-9a93-4dc0-9421-30d722c86f96"
      },
      "source": [
        "#o grafico da funcao que cosntruimos é esse, mas pode ser melhor, ter legendas, cores melhores, um ponto por ponto e tals. \r\n",
        "\r\n",
        "\r\n",
        "#agora veja como ficaria usando arrays\r\n",
        "\r\n",
        "x = np.linspace(0.0,10.0, num = 10)#cria o intervalo \r\n",
        "y = f(x)\r\n",
        "plt.figure()\r\n",
        "plt.axhline()#eixo horizontal em y = 0\r\n",
        "plt.axvline()#eixo vertical  em x = 0\r\n",
        "plt.plot(x,y)\r\n",
        "\r\n",
        "plt.show()\r\n"
      ],
      "execution_count": null,
      "outputs": [
        {
          "output_type": "display_data",
          "data": {
            "image/png": "[encoded data removed]",
            "text/plain": [
              "<Figure size 432x288 with 1 Axes>"
            ]
          },
          "metadata": {
            "tags": [],
            "needs_background": "light"
          }
        }
      ]
    },
    {
      "cell_type": "markdown",
      "metadata": {
        "id": "OyCoTUrr858H"
      },
      "source": [
        "#O trabalho começa aqui \r\n",
        "\r\n",
        "\r\n",
        "\r\n"
      ]
    },
    {
      "cell_type": "markdown",
      "metadata": {
        "id": "_ATj59P2hjHz"
      },
      "source": [
        "##Importando as bibliotecas:\r\n",
        "\r\n",
        "Basicamente bibliotecas sao conjuntos extensos de funçoes em python que servirao nesse caso para nos ajudar com os calculos as serem realizados. Com isso evitamos de ter que inventar a roda"
      ]
    },
    {
      "cell_type": "code",
      "metadata": {
        "id": "EMCG0juuKA7d"
      },
      "source": [
        "#importando as bibliotecas:\r\n",
        "\r\n",
        "import pandas as pd # para comandos relacionados aos dados \r\n",
        "import numpy as np  # para calculos matematicos, vai facilitar nossas vidas\r\n",
        "import matplotlib.pyplot as plt #isso aqui serve para plotar graficos basicamente\r\n",
        "import scipy.linalg as la"
      ],
      "execution_count": 89,
      "outputs": []
    },
    {
      "cell_type": "markdown",
      "metadata": {
        "id": "nuJmtX4niHES"
      },
      "source": [
        "## Importando os nossos dados "
      ]
    },
    {
      "cell_type": "code",
      "metadata": {
        "id": "5OVQt9Qz5010",
        "colab": {
          "base_uri": "https://localhost:8080/"
        },
        "outputId": "ae205c0a-368c-4749-d1c0-dfe6d8ca6967"
      },
      "source": [
        "#passando as variaveis para o ambiente\r\n",
        "#Resistencia_a_Tracao e a variavel dependente, vamos chama-la de R \r\n",
        "#Comprimento do fio e altura do molde sao as variaveis independentes, L e H sao os nomes respectivamente\r\n",
        "\r\n",
        "#Resistencia a Tracao, e a variavel dependente\r\n",
        "Y = [9.95,24.45,31.75,35.0,25.02,16.86,14.38,9.6,24.35,27.5,17.08,37.0,41.95,11.66,21.65,17.89,69.0,10.3,34.93,46.59,44.88,54.12,56.63,22.13,21.15]\r\n",
        "\r\n",
        "#Comprimento do fio, e a primeira variavel independente\r\n",
        "L = [2,8,11,10,8,4,2,2,9,8,4,11,12,2,4,4,20,1,10,15,15,16,17,6,5]\r\n",
        "\r\n",
        "#Altura do molde, segunda variavel dependente:\r\n",
        "H = [50,110,120,550,295,200,375,52,100,300,412,400,500,360,205,400,600,585,540,250,290,510,590,100,400]\r\n",
        "\r\n",
        "print(np.array(L)*np.array(H))"
      ],
      "execution_count": 119,
      "outputs": [
        {
          "output_type": "stream",
          "text": [
            "[  100   880  1320  5500  2360   800   750   104   900  2400  1648  4400\n",
            "  6000   720   820  1600 12000   585  5400  3750  4350  8160 10030   600\n",
            "  2000]\n"
          ],
          "name": "stdout"
        }
      ]
    },
    {
      "cell_type": "markdown",
      "metadata": {
        "id": "BIakGIfpiVhi"
      },
      "source": [
        "## Criando a matriz X e a matriz Y\r\n"
      ]
    },
    {
      "cell_type": "code",
      "metadata": {
        "id": "q8NCdjd6zhsr"
      },
      "source": [
        "#criando a matriz Y que sera a variavel dependente:\r\n",
        "Y = ([9.95,24.45,31.75,35.0,25.02,16.86,14.38,9.6,24.35,27.5,17.08,37.0,41.95,11.66,21.65,17.89,69.0,10.3,34.93,46.59,44.88,54.12,56.63,22.13,21.15])\r\n"
      ],
      "execution_count": 120,
      "outputs": []
    },
    {
      "cell_type": "code",
      "metadata": {
        "id": "Q6b9twiUr_SN",
        "colab": {
          "base_uri": "https://localhost:8080/"
        },
        "outputId": "ec441f02-be02-418e-c1c0-d47e035c49a4"
      },
      "source": [
        "#inicialmente criamos uma matriz de zeros\r\n",
        "X = np.zeros((25,3))\r\n",
        "c = 25#apenas um contador, vai ser usado logo abaixo\r\n",
        "#Agora vamos preencher a matriz X com os valores das variaveis. \r\n",
        "\r\n",
        "\r\n",
        "for i in range(c):\r\n",
        "    #inicialmente temos que preencher a primeira coluna com o numero 1\r\n",
        "    X[i][0] = 1#preenche a primeira coluna da nossa matriz com o numero 1 em todos os elementos\r\n",
        "    \r\n",
        "    #agora vamos acrescentar a primeira variavel independente a matriz, que e o comprimento do fio\r\n",
        "    X[i][1] = L[i]\r\n",
        "\r\n",
        "    #agora vamos colocar a segunda variavel dependente no nossa matriz X. que e a altura do molde\r\n",
        "    X[i][2] = H[i]\r\n",
        "print(X)\r\n",
        "\r\n"
      ],
      "execution_count": 121,
      "outputs": [
        {
          "output_type": "stream",
          "text": [
            "[[  1.   2.  50.]\n",
            " [  1.   8. 110.]\n",
            " [  1.  11. 120.]\n",
            " [  1.  10. 550.]\n",
            " [  1.   8. 295.]\n",
            " [  1.   4. 200.]\n",
            " [  1.   2. 375.]\n",
            " [  1.   2.  52.]\n",
            " [  1.   9. 100.]\n",
            " [  1.   8. 300.]\n",
            " [  1.   4. 412.]\n",
            " [  1.  11. 400.]\n",
            " [  1.  12. 500.]\n",
            " [  1.   2. 360.]\n",
            " [  1.   4. 205.]\n",
            " [  1.   4. 400.]\n",
            " [  1.  20. 600.]\n",
            " [  1.   1. 585.]\n",
            " [  1.  10. 540.]\n",
            " [  1.  15. 250.]\n",
            " [  1.  15. 290.]\n",
            " [  1.  16. 510.]\n",
            " [  1.  17. 590.]\n",
            " [  1.   6. 100.]\n",
            " [  1.   5. 400.]]\n"
          ],
          "name": "stdout"
        }
      ]
    },
    {
      "cell_type": "code",
      "metadata": {
        "id": "fpg-WnrIMXWH"
      },
      "source": [
        ""
      ],
      "execution_count": null,
      "outputs": []
    },
    {
      "cell_type": "markdown",
      "metadata": {
        "id": "cPRG_ih-ikfa"
      },
      "source": [
        "## Calculando os coeficientes do modelo \r\n"
      ]
    },
    {
      "cell_type": "code",
      "metadata": {
        "id": "HjhW0Z1fuYvU"
      },
      "source": [
        "#uma vez que temos a matriz X, podemos calcular a matriz C, que nos retornara os coeficientes\r\n",
        "#segundo o professor a matriz C e calculada da seguinte forma:\r\n",
        "\r\n",
        "# C = (Xtransposta * X)^-1 * (Xtransposta.Y )\r\n",
        "\r\n",
        "#primeiramente: Calcular a matriz Xt\r\n",
        "#vou criar uma funcao para isso tambem n se preocupe\r\n",
        "\r\n",
        "\r\n",
        "#criando uma funcao para calcular a matriz transposta de maneira mais facil:\r\n",
        "def transposta(M,l,c):\r\n",
        "    '''\r\n",
        "    M e a matriz\r\n",
        "    l e o numero de linhas\r\n",
        "    c e o numero de colunas\r\n",
        "    '''\r\n",
        "    aux = np.zeros((l,c))\r\n",
        "    for j in range(c):\r\n",
        "        #a primeira linha se refere a primeira coluna de X\r\n",
        "        aux[0][j] = M[j][0]\r\n",
        "        aux[1][j] = M[j][1]\r\n",
        "        aux[2][j] = M[j][2]  \r\n",
        "    return aux\r\n",
        "\r\n"
      ],
      "execution_count": null,
      "outputs": []
    },
    {
      "cell_type": "code",
      "metadata": {
        "colab": {
          "base_uri": "https://localhost:8080/"
        },
        "id": "tbAKDSOP0nbD",
        "outputId": "43b9655d-f8e2-4126-e1f7-fd2cdce9aad9"
      },
      "source": [
        "#calculando a matriz D\r\n",
        "#chegando na matriz inversa(Xt * X )^ -1\r\n",
        "#vamos calcular P = Xt * X simples:\r\n",
        "#primeiro calculando a transposta de X:\r\n",
        "Xt = transposta(X,3,25)\r\n",
        "\r\n",
        "#multiplicando Xt por X:\r\n",
        "P = np.matmul(Xt,X)\r\n",
        "import scipy.linalg as la\r\n",
        "\r\n",
        "D = la.inv(P)\r\n",
        "print(D)\r\n",
        "#obtendo Xt * Y:\r\n",
        "\r\n",
        "S = np.matmul(Xt,Y)\r\n",
        "\r\n",
        "\r\n",
        "#finalmente calculando C\r\n",
        "C = np.matmul(D,S)\r\n",
        "print(C)"
      ],
      "execution_count": null,
      "outputs": [
        {
          "output_type": "stream",
          "text": [
            "[[ 2.14652617e-01 -7.49091422e-03 -3.40389087e-04]\n",
            " [-7.49091422e-03  1.67076313e-03 -1.89178140e-05]\n",
            " [-3.40389087e-04 -1.89178140e-05  1.49587616e-06]]\n",
            "[2.26379143 2.74426964 0.01252781]\n"
          ],
          "name": "stdout"
        }
      ]
    },
    {
      "cell_type": "markdown",
      "metadata": {
        "id": "3NldxWs7jDgl"
      },
      "source": [
        "## Visualizacao do modelo criado em relação ao problema original\r\n",
        "\r\n",
        "Aqui basicamente vamos criar uma visualização de como o modelo estima os valores da resistencia a tração de acordo com as variaveis independentes que temos"
      ]
    },
    {
      "cell_type": "code",
      "metadata": {
        "colab": {
          "base_uri": "https://localhost:8080/"
        },
        "id": "BLr9xLNv0zTE",
        "outputId": "58e757d3-1764-4732-b2fe-b6af3a033560"
      },
      "source": [
        "#agora vamos ver como esse modelo consegue calcular os valores de Y\r\n",
        "\r\n",
        "Ye = np.matmul(X,C)#usando uma funcao do numpy que esta apelidado de np para calcular o produto das matrizes X e C\r\n",
        "#como vimos antes, a vantagem de usar arrays é nao ter que fazer um for toda vez que for multiplicar conjuntos de numeros"
      ],
      "execution_count": null,
      "outputs": [
        {
          "output_type": "stream",
          "text": [
            "[ 8.37872129 25.59600783 33.95409488 36.59678413 27.91365294 15.74643228\n",
            " 12.45025999  8.40377691 28.21499936 27.976292   18.4023283  37.46188206\n",
            " 41.45893285 12.26234282 15.80907134 18.25199456 64.66587113 12.33683074\n",
            " 36.47150602 46.55978893 47.06090138 52.56128953 56.30778409 19.98219043\n",
            " 20.9962642 ]\n"
          ],
          "name": "stdout"
        }
      ]
    },
    {
      "cell_type": "code",
      "metadata": {
        "colab": {
          "base_uri": "https://localhost:8080/",
          "height": 279
        },
        "id": "DGYtrCX12nPD",
        "outputId": "d80d01b1-dd59-4ed1-fcf3-6c62b87a6c73"
      },
      "source": [
        "#plotando o grafico Y por Ye para ver visualmente o modelo\r\n",
        "plt.figure()\r\n",
        "plt.xlabel('Y estimado')\r\n",
        "plt.ylabel('Y real')\r\n",
        "\r\n",
        "plt.plot(Y,Ye,'*r')\r\n",
        "\r\n",
        "plt.show()"
      ],
      "execution_count": null,
      "outputs": [
        {
          "output_type": "display_data",
          "data": {
            "image/png": "[encoded data removed]",
            "text/plain": [
              "<Figure size 432x288 with 1 Axes>"
            ]
          },
          "metadata": {
            "tags": [],
            "needs_background": "light"
          }
        }
      ]
    },
    {
      "cell_type": "code",
      "metadata": {
        "id": "eTOQOh-S921g"
      },
      "source": [
        ""
      ],
      "execution_count": null,
      "outputs": []
    },
    {
      "cell_type": "markdown",
      "metadata": {
        "id": "2szsQon4AJIy"
      },
      "source": [
        "## Intervalos de confiaça:\r\n",
        "Como podemos ver no grafico acima, nosso modelo inicial\r\n",
        "\r\n",
        "*(Y = A1 + A2xL + A2xH )*\r\n",
        "\r\n",
        "Se aproxima bastante do real, mas ainda não sabemos se isso é verdade. Como pudemos ver, os coeficientes parecem ser bastante relevantes também. \r\n",
        "Agora  vamos ver se isso realmente é verdade, e o quanto esse modelo é confiavel. \r\n"
      ]
    },
    {
      "cell_type": "code",
      "metadata": {
        "colab": {
          "base_uri": "https://localhost:8080/"
        },
        "id": "hE-eX5-_BeUO",
        "outputId": "bd1e0d95-b927-4e42-ee16-46ae6d1cae41"
      },
      "source": [
        "#incialmente temos que calcular o R²\r\n",
        "\r\n",
        "# a começar pela soma quadratica:\r\n",
        "#calculando a SQMS(Soma Quadratica do Modelo Mais simples):\r\n",
        "#SQMS = (y - ymedio)²\r\n",
        "\r\n",
        "\r\n",
        "SQMS = np.sum((Y - np.mean(Y))**2 )\r\n",
        "print(f'SQMS = {SQMS}')\r\n",
        "\r\n",
        "#agora vamos calcular a soma quadratica do nosso modelo:\r\n",
        "Sq = np.sum((Y - Ye)**2 )\r\n",
        "print(f'Sq = {Sq}')\r\n",
        "\r\n",
        "R2 = (SQMS - Sq)/SQMS\r\n",
        "print(f'R2 = {R2}')"
      ],
      "execution_count": null,
      "outputs": [
        {
          "output_type": "stream",
          "text": [
            "SQMS = 6105.944704000001\n",
            "Sq = 115.17348278044092\n",
            "R2 = 0.9811374834912948\n"
          ],
          "name": "stdout"
        }
      ]
    },
    {
      "cell_type": "code",
      "metadata": {
        "colab": {
          "base_uri": "https://localhost:8080/"
        },
        "id": "UA_2aXy8BtiE",
        "outputId": "cf111145-8724-4929-ffb7-dd6305af5f96"
      },
      "source": [
        "#como podemos ver o valor do nosso R² para o primeiro modelo(que seria o mais basico) construido é \r\n",
        "#consideravelmente proximo de 1\r\n",
        "\r\n",
        "#agora vamos para os intervalos de confiança:\r\n",
        "#incialmente para construir o intervalo de confiança precisamos da matriz D\r\n",
        "# D = (xt * X)inversa, a qual ja temos\r\n",
        "A0 = C[0] #pega o primeiro valor na matriz C que é o coeficiente A0 \r\n",
        "A1 = C[1]\r\n",
        "A2 = C[2]\r\n",
        "#a forma do intervalo de confiança é:\r\n",
        "# IC : A0 + ou - t * (Sq*(D[0][0])/gl)\r\n",
        "#onde: \r\n",
        "'''\r\n",
        "A0 é o primeiro coeficiente do nosso modelo\r\n",
        "Sq é a soma quadratica do nosso modelo\r\n",
        "D[0][0] é o primeiro elemento da primeira linha da matriz D\r\n",
        "gl: graus de liberdade e nesse problema ele vale gl = 25 - 3(numero de parametros) = 22\r\n",
        "t é o valor correspondente à 0.025 da area da distribuicao que temos la( n lembro o nome)\r\n",
        "nesse caso t = 2,069\r\n",
        "'''\r\n",
        "t = 2.069\r\n",
        "gl = 23\r\n",
        "v0 = t * ((Sq*(D[0][0])/gl)**0.5)\r\n",
        "v1 = t* ((Sq*(D[1][1])/gl)**0.5)\r\n",
        "v2 = t* ((Sq*(D[2][2])/gl)**0.5)\r\n",
        "print(f' IC para A0 : {A0} + ou - {v0}')\r\n",
        "print(f' IC para A1 : {A1} + ou - {v1}')\r\n",
        "print(f' IC para A2 : {A2} + ou - {v2}')"
      ],
      "execution_count": null,
      "outputs": [
        {
          "output_type": "stream",
          "text": [
            " IC para A0 : 2.263791434404567 + ou - 2.145067268292309\n",
            " IC para A1 : 2.7442696432411866 + ou - 0.1892475492688599\n",
            " IC para A2 : 0.01252781138560416 + ou - 0.0056626620406307684\n"
          ],
          "name": "stdout"
        }
      ]
    },
    {
      "cell_type": "code",
      "metadata": {
        "id": "8UwFjjglJGUd"
      },
      "source": [
        "#nenhum desses intervalos de confiança pega no 0, entao o modelo criado aqui é confiavel"
      ],
      "execution_count": null,
      "outputs": []
    },
    {
      "cell_type": "code",
      "metadata": {
        "id": "d6DDcM84DSwH"
      },
      "source": [
        "#"
      ],
      "execution_count": null,
      "outputs": []
    },
    {
      "cell_type": "markdown",
      "metadata": {
        "id": "xQyYPSjNybQw"
      },
      "source": [
        "#Funções\r\n",
        "essas funcoes sera uteis para facilitar o trabalho de voces"
      ]
    },
    {
      "cell_type": "code",
      "metadata": {
        "id": "avFJMFewHV5Z"
      },
      "source": [
        "#funcao que cria a matriz X\r\n",
        "def xmatriz(l,c, L, H, ce = False, param = 'i' ):\r\n",
        "    '''\r\n",
        "    Essa funcao tem a finalidade de automatizar a criacao da matriz X\r\n",
        "\r\n",
        "    seus parametros sao:\r\n",
        "    l: numero de linhas da matriz X\r\n",
        "    c: numero de colunas da matriz X\r\n",
        "    n: numero de parametros que a função \r\n",
        "\r\n",
        "    L: e a primeira variavel independente no nosso problema\r\n",
        "    H: e a segunda variavel independente no nosso problema\r\n",
        "    ce: sao casos especiais, se igual a true ele vai ativar uma parte da funcao que inclui na matriz X novas colunas\r\n",
        "\r\n",
        "    param: é o tipo de variacao que voce quer colocar dentro da modelo, seja ela LxH, L², H²,L²H, HL², (LH)²\r\n",
        "    vai ter uma string para cada tipo de caso. \r\n",
        "        'a' = LH\r\n",
        "        'b' = L²\r\n",
        "        'c' = H²\r\n",
        "\r\n",
        "    '''\r\n",
        "\r\n",
        "    aux = np.zeros((l,c))\r\n",
        "    if ce == False:\r\n",
        "        for i in range(l):\r\n",
        "            #inicialmente temos que preencher a primeira coluna com o numero 1\r\n",
        "            X[i][0] = 1#preenche a primeira coluna da nossa matriz com o numero 1 em todos os elementos\r\n",
        "    \r\n",
        "            #agora vamos acrescentar a primeira variavel independente a matriz, que e o comprimento do fio\r\n",
        "            X[i][1] = L[i]\r\n",
        "\r\n",
        "            #agora vamos colocar a segunda variavel dependente no nossa matriz X. que e a altura do molde\r\n",
        "            X[i][2] = H[i]\r\n",
        "    else: \r\n",
        "        #aqui seria quando ce é True, o que leva a funcao a adcionar os parametros de acordo com o gosto do cliente por meio\r\n",
        "        #do param, passado quando for chamar a funcao de acordo com o valor correspondente\r\n",
        "        if param == 'a':#acrescenta o parametro L*H\r\n",
        "            aux = np.zeros((l,c+1))#acrescenta mais uma coluna a matriz X\r\n",
        "            for i in range(l):#conta pelo numero de linhas\r\n",
        "            #inicialmente temos que preencher a primeira coluna com o numero 1\r\n",
        "            aux[i][0] = 1#preenche a primeira coluna da nossa matriz com o numero 1 em todos os elementos\r\n",
        "    \r\n",
        "            #agora vamos acrescentar a primeira variavel independente a matriz, que e o comprimento do fio\r\n",
        "            aux[i][1] = L[i]\r\n",
        "\r\n",
        "            #agora vamos colocar a segunda variavel dependente no nossa matriz X. que e a altura do molde\r\n",
        "            aux[i][2] = H[i]\r\n",
        "\r\n",
        "            #agora adciona ao produto de L por H:\r\n",
        "            LH = np.array(L)*np.array(H)\r\n",
        "            aux[i][3] = LH[i]\r\n",
        "        elif param == 'b':#acrescenta na matriz X a variavel L²\r\n",
        "            aux = np.zeros((l,c+1))#acrescenta mais uma coluna a matriz X\r\n",
        "            for i in range(l):#conta pelo numero de linhas\r\n",
        "            #inicialmente temos que preencher a primeira coluna com o numero 1\r\n",
        "            aux[i][0] = 1#preenche a primeira coluna da nossa matriz com o numero 1 em todos os elementos\r\n",
        "    \r\n",
        "            #agora vamos acrescentar a primeira variavel independente a matriz, que e o comprimento do fio\r\n",
        "            aux[i][1] = L[i]\r\n",
        "\r\n",
        "            #agora vamos colocar a segunda variavel dependente no nossa matriz X. que e a altura do molde\r\n",
        "            aux[i][2] = H[i]\r\n",
        "\r\n",
        "            #agora vamos colocar a terceira variavel dependente na nossa matriz X, que seria L²\r\n",
        "            L2 = np.array(L)*np.array(L)\r\n",
        "            aux[i][2] = L2[i]\r\n",
        "\r\n",
        "        elif param == 'c':#acrescenta a variavel H² na matriz X\r\n",
        "\r\n",
        "            aux = np.zeros((l,c+1))#acrescenta mais uma coluna a matriz X\r\n",
        "            for i in range(l):#conta pelo numero de linhas\r\n",
        "                #inicialmente temos que preencher a primeira coluna com o numero 1\r\n",
        "                aux[i][0] = 1#preenche a primeira coluna da nossa matriz com o numero 1 em todos os elementos\r\n",
        "    \r\n",
        "                #agora vamos acrescentar a primeira variavel independente a matriz, que e o comprimento do fio\r\n",
        "                aux[i][1] = L[i]\r\n",
        "\r\n",
        "                #agora vamos colocar a segunda variavel dependente no nossa matriz X. que e a altura do molde\r\n",
        "                aux[i][2] = H[i]\r\n",
        "\r\n",
        "                #agora vamos colocar a terceira variavel dependente na nossa matriz X, que seria L²\r\n",
        "                H2 = np.array(H)*np.array(H)\r\n",
        "                aux[i][2] = H2[i]\r\n",
        "\r\n",
        "        else:\r\n",
        "            print( 'Voce inseriu um param invalido!!!!!')\r\n",
        "\r\n",
        "    return aux\r\n"
      ],
      "execution_count": null,
      "outputs": []
    },
    {
      "cell_type": "code",
      "metadata": {
        "id": "Q1p67eXpFc8n"
      },
      "source": [
        "#criando uma funcao para calcular a matriz transposta de maneira mais facil:\r\n",
        "def transpostaa(M,l,c):\r\n",
        "    '''\r\n",
        "    M e a matriz da qual vai ser tirada a transposta\r\n",
        "    l e o numero de linhas\r\n",
        "    c e o numero de colunas\r\n",
        "    '''\r\n",
        "    aux = np.zeros((c,l))\r\n",
        "    i = 0\r\n",
        "    while i <= (c-1):\r\n",
        "        for j in range(l):\r\n",
        "            #a primeira linha se refere a primeira coluna de X\r\n",
        "            aux[i][j] = M[j][i]\r\n",
        "        i+=1    \r\n",
        "    return aux\r\n"
      ],
      "execution_count": 113,
      "outputs": []
    },
    {
      "cell_type": "code",
      "metadata": {
        "id": "Z53odf-kzymY"
      },
      "source": [
        "#funcao para calcular a matriz C dos coeficientes:\r\n",
        "\r\n",
        "def cmatriz(X,Y):\r\n",
        "#calculando a matriz D\r\n",
        "#chegando na matriz inversa(Xt * X )^ -1\r\n",
        "#vamos calcular P = Xt * X simples:\r\n",
        "#primeiro calculando a transposta de X:\r\n",
        "    Xt = transpostaa(X,25,3)\r\n",
        "\r\n",
        "    #multiplicando Xt por X:\r\n",
        "    P = np.matmul(Xt,X)\r\n",
        "    import scipy.linalg as la\r\n",
        "\r\n",
        "    D = la.inv(P)\r\n",
        "    #obtendo Xt * Y:\r\n",
        "\r\n",
        "    S = np.matmul(Xt,Y)\r\n",
        "\r\n",
        "\r\n",
        "    #finalmente calculando C\r\n",
        "    C = np.matmul(D,S)\r\n",
        "    return (C)\r\n",
        "\r\n"
      ],
      "execution_count": 122,
      "outputs": []
    },
    {
      "cell_type": "code",
      "metadata": {
        "id": "froJ9e7W0FhR"
      },
      "source": [
        "def dmatriz(X):\r\n",
        "    '''\r\n",
        "    Essa funcao serve para calcular a matriz D para o nosso problema\r\n",
        "\r\n",
        "    '''\r\n",
        "    import numpy as np \r\n",
        "    import scipy.linalg as la\r\n",
        "    P = np.matmul(Xt,X)\r\n",
        "    D = la.inv(P)\r\n",
        "    return (D)"
      ],
      "execution_count": 124,
      "outputs": []
    },
    {
      "cell_type": "code",
      "metadata": {
        "id": "G7FFVjId61Vi"
      },
      "source": [
        "#criando uma funcao para achar o r2 do nosso modelo:\r\n",
        "\r\n",
        "def r2():\r\n",
        "    "
      ],
      "execution_count": null,
      "outputs": []
    },
    {
      "cell_type": "code",
      "metadata": {
        "id": "GEtXVrJY23kQ"
      },
      "source": [
        "#criando uma funcao para a visualizacao do quao bem nosso modelo estima Y \r\n",
        "\r\n",
        "def visualizamodelo(X,C,Y):\r\n",
        "    '''\r\n",
        "    essa funcao serve para visualizarmos o quao bem nosso modelo esta estimando o Y \r\n",
        "    '''\r\n",
        "    #agora vamos ver como esse modelo consegue calcular os valores de Y\r\n",
        "\r\n",
        "    Ye = np.matmul(X,C)#usando uma funcao do numpy que esta apelidado de np para calcular o produto das matrizes X e C\r\n",
        "    #como vimos antes, a vantagem de usar arrays é nao ter que fazer um for toda vez que for multiplicar conjuntos de numeros\r\n",
        "    #plotando o grafico Y por Ye para ver visualmente o modelo\r\n",
        "    plt.figure()\r\n",
        "    plt.xlabel('Y estimado')\r\n",
        "    plt.ylabel('Y real')\r\n",
        "\r\n",
        "    plt.plot(Y,Ye,'*r')\r\n",
        "\r\n",
        "    return(plt.show())\r\n"
      ],
      "execution_count": 125,
      "outputs": []
    },
    {
      "cell_type": "code",
      "metadata": {
        "id": "kKr1d67i5RsZ"
      },
      "source": [
        "#criando uma funcao para gerar os intervalos de confiança do nosso modelo:\r\n",
        "def intervalo_confiança(Y,D,C,  t = 2.069):\r\n",
        "    '''\r\n",
        "    essa funcao serve para gerar os intervalos de confiança do modelo em questão\r\n",
        "\r\n",
        "\r\n",
        "        \r\n",
        "    A0 é o primeiro coeficiente do nosso modelo\r\n",
        "    Sq é a soma quadratica do nosso modelo\r\n",
        "    D[0][0] é o primeiro elemento da primeira linha da matriz D\r\n",
        "    gl: graus de liberdade e nesse problema ele vale gl = 25 - 3(numero de parametros) = 22\r\n",
        "    t é o valor correspondente à 0.025 da area da distribuicao que temos la( n lembro o nome)\r\n",
        "    nesse caso t = 2,069    \r\n",
        "    '''\r\n",
        "    gl = len(Y) - len(C)\r\n",
        "    Ye = np.matmul(X,C)#Yestimado pelo modelo\r\n",
        "    #incialmente temos que calcular o R²\r\n",
        "\r\n",
        "    #a começar pela soma quadratica:\r\n",
        "    #calculando a SQMS(Soma Quadratica do Modelo Mais simples):\r\n",
        "    #SQMS = (y - ymedio)²\r\n",
        "\r\n",
        "\r\n",
        "    SQMS = np.sum((Y - np.mean(Y))**2 )\r\n",
        "    print(f'SQMS = {SQMS}')\r\n",
        "\r\n",
        "    #agora vamos calcular a soma quadratica do nosso modelo:\r\n",
        "    Sq = np.sum((Y - Ye)**2 )\r\n",
        "    print(f'Sq = {Sq}')\r\n",
        "\r\n",
        "    R2 = (SQMS - Sq)/SQMS\r\n",
        "    print(f'R2 = {R2}')\r\n",
        "\r\n",
        "\r\n",
        "    #como podemos ver o valor do nosso R² para o primeiro modelo(que seria o mais basico) construido é \r\n",
        "    #consideravelmente proximo de 1\r\n",
        "\r\n",
        "    #agora vamos para os intervalos de confiança:\r\n",
        "    #incialmente para construir o intervalo de confiança precisamos da matriz D\r\n",
        "    # D = (xt * X)inversa, a qual ja temos\r\n",
        "    \r\n",
        "    \r\n",
        "    #a forma do intervalo de confiança é:\r\n",
        "    # IC : A0 + ou - t * (Sq*(D[0][0])/gl)\r\n",
        "    #onde: \r\n",
        "    \r\n",
        "    i = 0 #contador\r\n",
        "    while i <= (len(C) - 1) :\r\n",
        "        A = C[i]\r\n",
        "        v = t * (((Sq*(D[i][i]))/gl)**0.5)\r\n",
        "        print(f' IC para A{str(i)} : {A} + ou - {v}')\r\n",
        "        i+=1\r\n",
        "\r\n"
      ],
      "execution_count": 145,
      "outputs": []
    },
    {
      "cell_type": "code",
      "metadata": {
        "colab": {
          "base_uri": "https://localhost:8080/"
        },
        "id": "9tmhyd-2BnRr",
        "outputId": "1bf8029e-a6d6-4dc8-a3b7-0f7315cce3d6"
      },
      "source": [
        "intervalo_confiança(Y,D,C,  t = 2.069)"
      ],
      "execution_count": 146,
      "outputs": [
        {
          "output_type": "stream",
          "text": [
            "SQMS = 6105.944704000001\n",
            "Sq = 115.17348278044092\n",
            "R2 = 0.9811374834912948\n",
            " IC para A0 : 2.263791434404567 + ou - 2.193277046572483\n",
            " IC para A1 : 2.7442696432411866 + ou - 0.19350083424746164\n",
            " IC para A2 : 0.01252781138560416 + ou - 0.00578992876344627\n"
          ],
          "name": "stdout"
        }
      ]
    },
    {
      "cell_type": "code",
      "metadata": {
        "id": "Sk8f1jAB5Wvr"
      },
      "source": [
        ""
      ],
      "execution_count": 148,
      "outputs": []
    },
    {
      "cell_type": "code",
      "metadata": {
        "colab": {
          "base_uri": "https://localhost:8080/"
        },
        "id": "tMHIFYdWB-Bn",
        "outputId": "89d9de3e-59f9-44dc-9e45-14a4e919b9b3"
      },
      "source": [
        "len(C)"
      ],
      "execution_count": 147,
      "outputs": [
        {
          "output_type": "execute_result",
          "data": {
            "text/plain": [
              "3"
            ]
          },
          "metadata": {
            "tags": []
          },
          "execution_count": 147
        }
      ]
    },
    {
      "cell_type": "code",
      "metadata": {
        "colab": {
          "base_uri": "https://localhost:8080/"
        },
        "id": "Aj4i1I38CP6t",
        "outputId": "69f57416-5a60-4f02-ac87-fbe2fa8070fa"
      },
      "source": [
        "len(Y)"
      ],
      "execution_count": 148,
      "outputs": [
        {
          "output_type": "execute_result",
          "data": {
            "text/plain": [
              "25"
            ]
          },
          "metadata": {
            "tags": []
          },
          "execution_count": 148
        }
      ]
    },
    {
      "cell_type": "code",
      "metadata": {
        "id": "787NFJXfDXQe"
      },
      "source": [
        ""
      ],
      "execution_count": null,
      "outputs": []
    }
  ]
}